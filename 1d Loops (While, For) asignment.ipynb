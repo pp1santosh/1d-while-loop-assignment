{
 "cells": [
  {
   "cell_type": "code",
   "execution_count": 1,
   "id": "7b170c63",
   "metadata": {},
   "outputs": [
    {
     "name": "stdout",
     "output_type": "stream",
     "text": [
      "1 , 2 , 3 , 4 , 5 , "
     ]
    }
   ],
   "source": [
    "#1 sol\n",
    "count=1\n",
    "while count<6:\n",
    "    print(count,end=\" , \")\n",
    "    count+=1\n",
    "   \n",
    "          "
   ]
  },
  {
   "cell_type": "code",
   "execution_count": 6,
   "id": "bad42b1d",
   "metadata": {},
   "outputs": [
    {
     "name": "stdout",
     "output_type": "stream",
     "text": [
      "result of addition from 1 to 10 is = 55\n"
     ]
    }
   ],
   "source": [
    "#2 sol\n",
    "num=0\n",
    "sum=0\n",
    "while num<11:\n",
    "    num+=1\n",
    "    sum+=num\n",
    "    if num==10:\n",
    "        print('result of addition from 1 to 10 is =',sum)\n",
    "    else:\n",
    "        pass\n",
    "    \n",
    "        \n",
    "    "
   ]
  },
  {
   "cell_type": "code",
   "execution_count": 10,
   "id": "d99f9d07",
   "metadata": {},
   "outputs": [
    {
     "name": "stdout",
     "output_type": "stream",
     "text": [
      "enter a number 0\n",
      "factorial of 0 is= 1\n",
      "your required factorial result is= 1\n"
     ]
    }
   ],
   "source": [
    "#3\n",
    "factorial=1\n",
    "number=int(input(\"enter a number \" ))\n",
    "if number==0:\n",
    "    print(\"factorial of 0 is=\",1)\n",
    "else:\n",
    "    for i in range(1,number+1):  #using for loop\n",
    "        factorial*=i\n",
    "print(\"your required factorial result is=\",factorial)            \n",
    "            \n",
    "            "
   ]
  },
  {
   "cell_type": "code",
   "execution_count": 9,
   "id": "be5a6a0f",
   "metadata": {},
   "outputs": [
    {
     "name": "stdout",
     "output_type": "stream",
     "text": [
      "enter a word or stringhey go\n",
      "total number of vowel found in your string is= 2\n"
     ]
    }
   ],
   "source": [
    "#4 sol\n",
    "word=str(input(\"enter a word or string\"))\n",
    "vowel=\"aeiouAEIOU\"\n",
    "count=0\n",
    "for i in word:\n",
    "    for j in vowel:\n",
    "        if i==j:\n",
    "            count+=1\n",
    "        else:\n",
    "            pass\n",
    "print(\"total number of vowel found in your string is=\",count)    "
   ]
  },
  {
   "cell_type": "code",
   "execution_count": 16,
   "id": "94352cfa",
   "metadata": {},
   "outputs": [
    {
     "name": "stdout",
     "output_type": "stream",
     "text": [
      "\n",
      "\n",
      "\n",
      "\n",
      "* \n",
      "\n",
      "* * \n",
      "\n",
      "* * * \n",
      "\n",
      "* * * * \n",
      "\n",
      "* * * * * \n",
      "\n",
      "* * * * * * \n",
      "\n",
      "* * * * * * * \n",
      "\n",
      "* * * * * * * * \n",
      "\n",
      "* * * * * * * * * "
     ]
    }
   ],
   "source": [
    "#5 sol\n",
    "for i in range(10):\n",
    "    print(\"\\n\")\n",
    "    for j in range(i):\n",
    "        print(\"*\",end=\" \")\n",
    "        "
   ]
  },
  {
   "cell_type": "code",
   "execution_count": 27,
   "id": "5a0e7fa6",
   "metadata": {},
   "outputs": [
    {
     "name": "stdout",
     "output_type": "stream",
     "text": [
      "enter a number whose table is needed\t\n",
      "\n",
      "12\n",
      "the table of 12 is depicted below\n",
      "12*1 = 12\n",
      "12*2 = 24\n",
      "12*3 = 36\n",
      "12*4 = 48\n",
      "12*5 = 60\n",
      "12*6 = 72\n",
      "12*7 = 84\n",
      "12*8 = 96\n",
      "12*9 = 108\n",
      "12*10 = 120\n"
     ]
    }
   ],
   "source": [
    "# 6 sol\n",
    "table=int(input(\"enter a number whose table is needed\\t\\n\\n\"))\n",
    "print(f\"the table of {table} is depicted below\")\n",
    "for i in range(1):\n",
    "    for j in range(1,11):\n",
    "        print(f\"{table}*{j} = {table*j}\")"
   ]
  },
  {
   "cell_type": "code",
   "execution_count": null,
   "id": "613fc577",
   "metadata": {},
   "outputs": [],
   "source": []
  }
 ],
 "metadata": {
  "kernelspec": {
   "display_name": "Python 3 (ipykernel)",
   "language": "python",
   "name": "python3"
  },
  "language_info": {
   "codemirror_mode": {
    "name": "ipython",
    "version": 3
   },
   "file_extension": ".py",
   "mimetype": "text/x-python",
   "name": "python",
   "nbconvert_exporter": "python",
   "pygments_lexer": "ipython3",
   "version": "3.9.13"
  }
 },
 "nbformat": 4,
 "nbformat_minor": 5
}
